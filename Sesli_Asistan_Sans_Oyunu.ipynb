{
 "cells": [
  {
   "cell_type": "code",
   "execution_count": 1,
   "metadata": {},
   "outputs": [],
   "source": [
    "from playsound import playsound\n",
    "from gtts import gTTS\n",
    "import speech_recognition as sr\n",
    "import os"
   ]
  },
  {
   "cell_type": "code",
   "execution_count": 2,
   "metadata": {},
   "outputs": [],
   "source": [
    "def speak(string):\n",
    "    tts=gTTS(text=string, lang=\"tr\")\n",
    "    file=\"answer.mp3\"\n",
    "    tts.save(file)\n",
    "    playsound(file)\n",
    "    os.remove(file)"
   ]
  },
  {
   "cell_type": "code",
   "execution_count": 3,
   "metadata": {},
   "outputs": [],
   "source": [
    "import random"
   ]
  },
  {
   "cell_type": "code",
   "execution_count": 13,
   "metadata": {},
   "outputs": [],
   "source": [
    "def sans_oyunu():\n",
    "    speak(\"Şans topu oyununa hoşgeldiniz...\")\n",
    "    kac_kez=int(input(\"kaç kez oynamak istersiniz= \"))\n",
    "    speak(str(kac_kez)+\"kez oynamak isterim...\")\n",
    "    puan=kac_kez*10\n",
    "    speak(str(puan)+\"puanla oyuna başlıyorsunuz...\")\n",
    "    hak=0\n",
    "    for i in range(0,kac_kez):\n",
    "        hak=hak+1\n",
    "        sayi=int(input(\"Lütfen sayıyı giriniz= \"))\n",
    "        speak(str(sayi)+\" sayısını değer olarak girdiniz\")\n",
    "        sayi_tahmin=random.randint(1,100)\n",
    "        if sayi>sayi_tahmin:\n",
    "            puan=puan-10\n",
    "            speak(\"Lütfen daha küçük bir sayı giriniz.\")\n",
    "            speak(\"Sizin girdiğiniz sayı\"+str(sayi))\n",
    "            speak(\"Tahmin edilen sayı\"+str(sayi_tahmin))\n",
    "            speak(\"Puanınız\"+str(puan))\n",
    "        elif sayi<sayi_tahmin:\n",
    "            puan=puan-10\n",
    "            speak(\"Lütfen daha Büyük bir sayı giriniz.\")\n",
    "            speak(\"Sizin girdiğiniz sayı\"+str(sayi))\n",
    "            speak(\"Tahmin edilen sayı\"+str(sayi_tahmin))\n",
    "            speak(\"Puanınız\"+str(puan))\n",
    "        elif sayi==sayi_tahmin:\n",
    "            puan=puan+10\n",
    "            speak(\"Tebrikler doğru tahminde bulundunuz..\")\n",
    "            speak(\"Sizin girdiğiniz sayı\"+str(sayi))\n",
    "            speak(\"Tahmin edilen sayı\"+str(sayi_tahmin))\n",
    "            speak(\"Puanınız\"+str(puan))\n",
    "            \n",
    "        if hak==kac_kez:\n",
    "            speak(\"Hakkınız sona erdi\")\n",
    "            speak(\"Puanınız\"+str(puan))\n",
    "    "
   ]
  },
  {
   "cell_type": "code",
   "execution_count": 14,
   "metadata": {},
   "outputs": [
    {
     "name": "stdout",
     "output_type": "stream",
     "text": [
      "kaç kez oynamak istersiniz= 15\n"
     ]
    },
    {
     "ename": "TypeError",
     "evalue": "int() argument must be a string, a bytes-like object or a number, not 'NoneType'",
     "output_type": "error",
     "traceback": [
      "\u001b[1;31m---------------------------------------------------------------------------\u001b[0m",
      "\u001b[1;31mTypeError\u001b[0m                                 Traceback (most recent call last)",
      "\u001b[1;32m<ipython-input-14-a4666c50f3b1>\u001b[0m in \u001b[0;36m<module>\u001b[1;34m\u001b[0m\n\u001b[1;32m----> 1\u001b[1;33m \u001b[0msans_oyunu\u001b[0m\u001b[1;33m(\u001b[0m\u001b[1;33m)\u001b[0m\u001b[1;33m\u001b[0m\u001b[1;33m\u001b[0m\u001b[0m\n\u001b[0m",
      "\u001b[1;32m<ipython-input-13-7f0c404c9547>\u001b[0m in \u001b[0;36msans_oyunu\u001b[1;34m()\u001b[0m\n\u001b[0;32m      1\u001b[0m \u001b[1;32mdef\u001b[0m \u001b[0msans_oyunu\u001b[0m\u001b[1;33m(\u001b[0m\u001b[1;33m)\u001b[0m\u001b[1;33m:\u001b[0m\u001b[1;33m\u001b[0m\u001b[1;33m\u001b[0m\u001b[0m\n\u001b[0;32m      2\u001b[0m     \u001b[0mspeak\u001b[0m\u001b[1;33m(\u001b[0m\u001b[1;34m\"Şans topu oyununa hoşgeldiniz...\"\u001b[0m\u001b[1;33m)\u001b[0m\u001b[1;33m\u001b[0m\u001b[1;33m\u001b[0m\u001b[0m\n\u001b[1;32m----> 3\u001b[1;33m     \u001b[0mkac_kez\u001b[0m\u001b[1;33m=\u001b[0m\u001b[0mint\u001b[0m\u001b[1;33m(\u001b[0m\u001b[0mspeak\u001b[0m\u001b[1;33m(\u001b[0m\u001b[0minput\u001b[0m\u001b[1;33m(\u001b[0m\u001b[1;34m\"kaç kez oynamak istersiniz= \"\u001b[0m\u001b[1;33m)\u001b[0m\u001b[1;33m)\u001b[0m\u001b[1;33m)\u001b[0m\u001b[1;33m\u001b[0m\u001b[1;33m\u001b[0m\u001b[0m\n\u001b[0m\u001b[0;32m      4\u001b[0m     \u001b[0mspeak\u001b[0m\u001b[1;33m(\u001b[0m\u001b[0mstr\u001b[0m\u001b[1;33m(\u001b[0m\u001b[0mkac_kez\u001b[0m\u001b[1;33m)\u001b[0m\u001b[1;33m+\u001b[0m\u001b[1;34m\"kez oynamak isterim...\"\u001b[0m\u001b[1;33m)\u001b[0m\u001b[1;33m\u001b[0m\u001b[1;33m\u001b[0m\u001b[0m\n\u001b[0;32m      5\u001b[0m     \u001b[0mpuan\u001b[0m\u001b[1;33m=\u001b[0m\u001b[0mkac_kez\u001b[0m\u001b[1;33m*\u001b[0m\u001b[1;36m10\u001b[0m\u001b[1;33m\u001b[0m\u001b[1;33m\u001b[0m\u001b[0m\n",
      "\u001b[1;31mTypeError\u001b[0m: int() argument must be a string, a bytes-like object or a number, not 'NoneType'"
     ]
    }
   ],
   "source": [
    "sans_oyunu()"
   ]
  },
  {
   "cell_type": "code",
   "execution_count": null,
   "metadata": {},
   "outputs": [],
   "source": []
  }
 ],
 "metadata": {
  "kernelspec": {
   "display_name": "Python 3",
   "language": "python",
   "name": "python3"
  },
  "language_info": {
   "codemirror_mode": {
    "name": "ipython",
    "version": 3
   },
   "file_extension": ".py",
   "mimetype": "text/x-python",
   "name": "python",
   "nbconvert_exporter": "python",
   "pygments_lexer": "ipython3",
   "version": "3.8.5"
  }
 },
 "nbformat": 4,
 "nbformat_minor": 4
}
