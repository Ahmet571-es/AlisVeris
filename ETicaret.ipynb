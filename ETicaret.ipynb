{
 "cells": [
  {
   "cell_type": "code",
   "execution_count": 52,
   "metadata": {},
   "outputs": [],
   "source": [
    "import sqlite3"
   ]
  },
  {
   "cell_type": "code",
   "execution_count": 53,
   "metadata": {},
   "outputs": [],
   "source": [
    "connection=sqlite3.connect(\"Urun_Listesi.db\")"
   ]
  },
  {
   "cell_type": "code",
   "execution_count": 54,
   "metadata": {},
   "outputs": [],
   "source": [
    "cursor=connection.cursor()"
   ]
  },
  {
   "cell_type": "code",
   "execution_count": 55,
   "metadata": {},
   "outputs": [],
   "source": [
    "class Bank_Card():\n",
    "    def __init__(self):\n",
    "        card_pass=input(\"Kart şifrenizi giriniz= \")\n",
    "        self.card_pass=card_pass\n",
    "        for i in range(0,1):\n",
    "            if not self.card_pass.isdigit():\n",
    "                print(\"Şifreniz rakam olmalıdır...\")\n",
    "                break\n",
    "            elif self.card_pass.isdigit():\n",
    "                if len(self.card_pass)!=5:\n",
    "                    print(\"Şifreniz 5 haneli olmalıdır\")\n",
    "                    break\n",
    "                elif len(self.card_pass)==5:\n",
    "                    if self.card_pass[0]==self.card_pass[1]==self.card_pass[2]==self.card_pass[3]==self.card_pass[4] :\n",
    "                        print(\"Yanlış giriş dizesi\")\n",
    "                        break\n",
    "                    elif self.card_pass[0]!=self.card_pass[1]!=self.card_pass[2]!=self.card_pass[3]!=self.card_pass[4] :\n",
    "                        if self.card_pass[1]==self.card_pass[2]==self.card_pass[3]==self.card_pass[4] :\n",
    "                            print(\"Yanlış giriş dizesi\")\n",
    "                            break\n",
    "                        elif self.card_pass[1]!=self.card_pass[2]!=self.card_pass[3]!=self.card_pass[4] : \n",
    "                            if self.card_pass[2]==self.card_pass[3]==self.card_pass[4] :\n",
    "                                print(\"Yanlış giriş dizesi\")\n",
    "                                break\n",
    "                            elif self.card_pass[2]!=self.card_pass[3]!=self.card_pass[4] :\n",
    "                                if self.card_pass[0]==\"1\" or self.card_pass[0]==\"2\":\n",
    "                                    print(\"Şifrenin ilk hanesi 1 veya 2 olamaz\")\n",
    "                                    break\n",
    "                                elif  self.card_pass[0]!=\"1\" and self.card_pass[0]!=\"2\":\n",
    "                                    print(\"Giriş şifreniz onaylandı..\")\n",
    "                                    money=int(input(\"Yatırmak istediğiniz tutarı giriniz= \"))\n",
    "                                    self.money=money\n",
    "                                    print(f\"Kartınızdaki bakiye = {self.money}\")\n",
    "                                    "
   ]
  },
  {
   "cell_type": "code",
   "execution_count": 47,
   "metadata": {},
   "outputs": [
    {
     "name": "stdout",
     "output_type": "stream",
     "text": [
      "Kart şifrenizi giriniz= 45678\n",
      "Giriş şifreniz onaylandı..\n",
      "Yatırmak istediğiniz tutarı giriniz= 1355\n",
      "Kartınızdaki bakiye = 1355\n"
     ]
    }
   ],
   "source": [
    "b1=Bank_Card()"
   ]
  },
  {
   "cell_type": "code",
   "execution_count": 119,
   "metadata": {},
   "outputs": [],
   "source": [
    "class Sepet(Bank_Card):\n",
    "    def __init__(self):\n",
    "        Bank_Card.__init__(self)\n",
    "    def urun_listesi(self):\n",
    "        cursor.execute(\"SELECT * FROM products\")\n",
    "        liste=cursor.fetchall()\n",
    "        for i in liste:\n",
    "            print(f\"Ürün adı={i[0]}, ürün fiyatı={i[1]}, ürün adeti={i[2]}\")\n",
    "    def alis_veris(self):\n",
    "        urun_list=[]\n",
    "        urun_kac_adet=int(input(\"Kaç adet ürün almak istersiniz :  \"))\n",
    "        for i in range(0,urun_kac_adet):\n",
    "            urun_ad=input(f\"{i+1} sıralı almak istediğiniz ürün adını giriniz: \")\n",
    "            for j in liste:\n",
    "                if j[1]==urun_ad:\n",
    "                    print(f\"Almak istediğiniz ürünün adı={j[0]}, fiyatı={j[1]}\")\n",
    "                    urun_list.append(j[1])\n",
    "                    urun_list1.append(j[0])\n",
    "        #print(urun_list)\n",
    "        #print(urun_list1)\n",
    "        toplam=0\n",
    "        for i in urun_list:\n",
    "            toplam=toplam+i\n",
    "        print(f\"Toplam harcamanız={toplam}\")\n",
    "        kalan=self.money-toplam\n",
    "        for i in range(0,1):\n",
    "            if self.money>=toplam:\n",
    "                print(f\"Hayırlı olsun. Alışverişiniz sonucu kalan paranız={kalan}\")\n",
    "                adress=input(\"Adres bilginizi giriniz. :\")\n",
    "                gsm=input(\"gsm numaranızı giriniz. :\")\n",
    "                for i in range(0,1):\n",
    "                    if not gsm.isdigit():\n",
    "                        print(\"Rakam olmak zorunda\")\n",
    "                        break\n",
    "                    elif gsm.isdigit():\n",
    "                        if len(gsm)!=10:\n",
    "                            print(\"gsm numaranız 10 elemanlı olmalıdır.\")\n",
    "                            break\n",
    "                        elif len(gsm)==10:\n",
    "                            if gsm[0]!=\"5\":\n",
    "                                print(\"ilk hane 5 olmalıdır.\")\n",
    "                                break\n",
    "                            elif gsm[0]==\"5\":\n",
    "                                if gsm[3]==gsm[4:10] or gsm[4]==gsm[5:10] or gsm[5]==gsm[6:10]:\n",
    "                                    print(\"Gsm numaranız sistemde tanımlanmamaktadır.\")\n",
    "                                    break\n",
    "                                elif gsm[3]!=gsm[4:10] and gsm[4]!=gsm[5:10] and gsm[5]!=gsm[6:10]:\n",
    "                                    print(\"Adres bilgileriniz başarı ile kaydedildi..\")\n",
    "                                    print(\"Siparişiniz 2 iş günü içerisinde elinize ulaşacaktır..\")\n",
    "            else:\n",
    "                print(\"Maalesef bakiyeniz yetmedi\")"
   ]
  },
  {
   "cell_type": "code",
   "execution_count": 120,
   "metadata": {},
   "outputs": [
    {
     "name": "stdout",
     "output_type": "stream",
     "text": [
      "Kart şifrenizi giriniz= 57102\n",
      "Giriş şifreniz onaylandı..\n",
      "Yatırmak istediğiniz tutarı giriniz= 1230\n",
      "Kartınızdaki bakiye = 1230\n"
     ]
    }
   ],
   "source": [
    "s1=Sepet()"
   ]
  },
  {
   "cell_type": "code",
   "execution_count": 121,
   "metadata": {},
   "outputs": [
    {
     "name": "stdout",
     "output_type": "stream",
     "text": [
      "Ürün adı=İphone 6s, ürün fiyatı=1200, ürün adeti=12\n",
      "Ürün adı=Apple, ürün fiyatı=1235, ürün adeti=15\n",
      "Ürün adı=Asus, ürün fiyatı=1100, ürün adeti=8\n",
      "Ürün adı=Xaomi-Mi6s, ürün fiyatı=859, ürün adeti=14\n",
      "Ürün adı=Huawei, ürün fiyatı=1050, ürün adeti=8\n",
      "Ürün adı=Honour, ürün fiyatı=895, ürün adeti=13\n"
     ]
    }
   ],
   "source": [
    "s1.urun_listesi()"
   ]
  },
  {
   "cell_type": "code",
   "execution_count": 123,
   "metadata": {},
   "outputs": [
    {
     "name": "stdout",
     "output_type": "stream",
     "text": [
      "Kaç adet ürün almak istersiniz :  2\n",
      "1 sıralı almak istediğiniz ürün adını giriniz: Apple\n"
     ]
    },
    {
     "ename": "TypeError",
     "evalue": "'int' object is not subscriptable",
     "output_type": "error",
     "traceback": [
      "\u001b[1;31m---------------------------------------------------------------------------\u001b[0m",
      "\u001b[1;31mTypeError\u001b[0m                                 Traceback (most recent call last)",
      "\u001b[1;32m<ipython-input-123-9fa4dfb6ac45>\u001b[0m in \u001b[0;36m<module>\u001b[1;34m\u001b[0m\n\u001b[1;32m----> 1\u001b[1;33m \u001b[0ms1\u001b[0m\u001b[1;33m.\u001b[0m\u001b[0malis_veris\u001b[0m\u001b[1;33m(\u001b[0m\u001b[1;33m)\u001b[0m\u001b[1;33m\u001b[0m\u001b[1;33m\u001b[0m\u001b[0m\n\u001b[0m",
      "\u001b[1;32m<ipython-input-119-089abcbafbdf>\u001b[0m in \u001b[0;36malis_veris\u001b[1;34m(self)\u001b[0m\n\u001b[0;32m     13\u001b[0m             \u001b[0murun_ad\u001b[0m\u001b[1;33m=\u001b[0m\u001b[0minput\u001b[0m\u001b[1;33m(\u001b[0m\u001b[1;34mf\"{i+1} sıralı almak istediğiniz ürün adını giriniz: \"\u001b[0m\u001b[1;33m)\u001b[0m\u001b[1;33m\u001b[0m\u001b[1;33m\u001b[0m\u001b[0m\n\u001b[0;32m     14\u001b[0m             \u001b[1;32mfor\u001b[0m \u001b[0mj\u001b[0m \u001b[1;32min\u001b[0m \u001b[0mliste\u001b[0m\u001b[1;33m:\u001b[0m\u001b[1;33m\u001b[0m\u001b[1;33m\u001b[0m\u001b[0m\n\u001b[1;32m---> 15\u001b[1;33m                 \u001b[1;32mif\u001b[0m \u001b[0mj\u001b[0m\u001b[1;33m[\u001b[0m\u001b[1;36m1\u001b[0m\u001b[1;33m]\u001b[0m\u001b[1;33m==\u001b[0m\u001b[0murun_ad\u001b[0m\u001b[1;33m:\u001b[0m\u001b[1;33m\u001b[0m\u001b[1;33m\u001b[0m\u001b[0m\n\u001b[0m\u001b[0;32m     16\u001b[0m                     \u001b[0mprint\u001b[0m\u001b[1;33m(\u001b[0m\u001b[1;34mf\"Almak istediğiniz ürünün adı={j[0]}, fiyatı={j[1]}\"\u001b[0m\u001b[1;33m)\u001b[0m\u001b[1;33m\u001b[0m\u001b[1;33m\u001b[0m\u001b[0m\n\u001b[0;32m     17\u001b[0m                     \u001b[0murun_list\u001b[0m\u001b[1;33m.\u001b[0m\u001b[0mappend\u001b[0m\u001b[1;33m(\u001b[0m\u001b[0mj\u001b[0m\u001b[1;33m[\u001b[0m\u001b[1;36m1\u001b[0m\u001b[1;33m]\u001b[0m\u001b[1;33m)\u001b[0m\u001b[1;33m\u001b[0m\u001b[1;33m\u001b[0m\u001b[0m\n",
      "\u001b[1;31mTypeError\u001b[0m: 'int' object is not subscriptable"
     ]
    }
   ],
   "source": [
    "s1.alis_veris()"
   ]
  },
  {
   "cell_type": "code",
   "execution_count": 105,
   "metadata": {},
   "outputs": [],
   "source": [
    "def urun_listele():\n",
    "    cursor.execute(\"SELECT * FROM products\")\n",
    "    liste=cursor.fetchall()\n",
    "    for i in liste:\n",
    "        print(i[0])"
   ]
  },
  {
   "cell_type": "code",
   "execution_count": 106,
   "metadata": {},
   "outputs": [
    {
     "name": "stdout",
     "output_type": "stream",
     "text": [
      "İphone 6s\n",
      "Apple\n",
      "Asus\n",
      "Xaomi-Mi6s\n",
      "Huawei\n",
      "Honour\n"
     ]
    }
   ],
   "source": [
    "urun_listele()"
   ]
  },
  {
   "cell_type": "code",
   "execution_count": null,
   "metadata": {},
   "outputs": [],
   "source": []
  }
 ],
 "metadata": {
  "kernelspec": {
   "display_name": "Python 3",
   "language": "python",
   "name": "python3"
  },
  "language_info": {
   "codemirror_mode": {
    "name": "ipython",
    "version": 3
   },
   "file_extension": ".py",
   "mimetype": "text/x-python",
   "name": "python",
   "nbconvert_exporter": "python",
   "pygments_lexer": "ipython3",
   "version": "3.8.5"
  }
 },
 "nbformat": 4,
 "nbformat_minor": 4
}
