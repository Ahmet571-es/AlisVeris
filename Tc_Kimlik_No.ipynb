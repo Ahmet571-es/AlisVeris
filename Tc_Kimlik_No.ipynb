{
 "cells": [
  {
   "cell_type": "code",
   "execution_count": null,
   "metadata": {},
   "outputs": [],
   "source": [
    "class Tc_no():\n",
    "    def __init__(self):\n",
    "        print(\"Tc kimlik doğrulama programı\")\n",
    "        liste=[]\n",
    "        tc_no=input(\"tc kimlik numaranızı giriniz= \")\n",
    "        for i in range(0,1):\n",
    "            if len(tc_no)!=11:\n",
    "                print(\"Girilen değer 11 karakterli olmalıdır.\")\n",
    "                break\n",
    "            elif len(tc_no)==11:\n",
    "                if not tc_no.isdigit():\n",
    "                    print(\"girilen değerler rakam olmalıdır..\")\n",
    "                    break\n",
    "                elif tc_no.isdigit():\n",
    "                    if int(tc_no[0])==0:\n",
    "                        print(\"Tc numarası 0 rakamı ile başlamaz\")\n",
    "                        break\n",
    "                    elif int(tc_no[0])!=0:\n",
    "                        for i in tc_no:\n",
    "                            liste.append(int(i))\n",
    "                        if not sum(liste[0:10])%10==liste[10]:\n",
    "                            print(\"Hatalı tc kimlik numarası\")\n",
    "                            break\n",
    "                        elif sum(liste[0:10])%10==liste[10]:\n",
    "                            a=7*sum(liste[0:10:2])\n",
    "                            b=sum(liste[1:9:2])\n",
    "                            if not (a-b)%10==liste[9]:\n",
    "                                print(\"Hatalı bir tc girişi\")\n",
    "                                break\n",
    "                            elif (a-b)%10==liste[9]:\n",
    "                                print(\"Tebrikler tc girişiniz onaylandı...\")"
   ]
  },
  {
   "cell_type": "code",
   "execution_count": null,
   "metadata": {},
   "outputs": [],
   "source": []
  },
  {
   "cell_type": "code",
   "execution_count": null,
   "metadata": {},
   "outputs": [],
   "source": []
  },
  {
   "cell_type": "code",
   "execution_count": null,
   "metadata": {},
   "outputs": [],
   "source": []
  },
  {
   "cell_type": "code",
   "execution_count": null,
   "metadata": {},
   "outputs": [],
   "source": []
  }
 ],
 "metadata": {
  "kernelspec": {
   "display_name": "Python 3",
   "language": "python",
   "name": "python3"
  },
  "language_info": {
   "codemirror_mode": {
    "name": "ipython",
    "version": 3
   },
   "file_extension": ".py",
   "mimetype": "text/x-python",
   "name": "python",
   "nbconvert_exporter": "python",
   "pygments_lexer": "ipython3",
   "version": "3.8.5"
  }
 },
 "nbformat": 4,
 "nbformat_minor": 4
}
