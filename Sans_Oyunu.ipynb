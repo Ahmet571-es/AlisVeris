{
 "cells": [
  {
   "cell_type": "code",
   "execution_count": 1,
   "metadata": {},
   "outputs": [],
   "source": [
    "import random"
   ]
  },
  {
   "cell_type": "code",
   "execution_count": 4,
   "metadata": {},
   "outputs": [],
   "source": [
    "class Piyango():\n",
    "    def __init__(self):\n",
    "        print(\"Şans oyununa hoşgeldiniz...\")\n",
    "        kac_kez=int(input(\"Çekiliş oyununu kaç kere oynamak istesiniz= \"))\n",
    "        puan=kac_kez*10\n",
    "        hak=0\n",
    "        tahmin_sayi=random.randint(1,100)\n",
    "        print(f\"Başlangıç puanınız={puan}\")\n",
    "        for i in range(0,kac_kez):\n",
    "            hak=hak+1\n",
    "            number=int(input(\"Lütfen tahmininizi giriniz = \"))\n",
    "            if number==tahmin_sayi:\n",
    "                puan=puan+10\n",
    "                print(\"Tebrikler doğru tahminde bulundunuz...\")\n",
    "                print(f\"Puanınız={puan}\")\n",
    "            elif number> tahmin_sayi:\n",
    "                puan=puan-10\n",
    "                print(\"Tahmininizi küçültün...\")\n",
    "                print(f\"Puanınız={puan}\")\n",
    "            elif number<tahmin_sayi:\n",
    "                puan=puan-10\n",
    "                print(\"Tahmininizi büyültün...\")\n",
    "                print(f\"Puanınız={puan}\")\n",
    "                \n",
    "            if hak==kac_kez:\n",
    "                print(f\"Hakkınız sona erdi. Toplam puanınız={puan}, Sistem tarafından tahmin edile sayı={tahmin_sayi}\")\n",
    "                "
   ]
  },
  {
   "cell_type": "code",
   "execution_count": 5,
   "metadata": {},
   "outputs": [
    {
     "name": "stdout",
     "output_type": "stream",
     "text": [
      "Şans oyununa hoşgeldiniz...\n",
      "Çekiliş oyununu kaç kere oynamak istesiniz= 3\n",
      "Başlangıç puanınız=30\n",
      "Lütfen tahmininizi giriniz = 56\n",
      "Tahmininizi küçültün...\n",
      "Puanınız=20\n",
      "Lütfen tahmininizi giriniz = 50\n",
      "Tahmininizi küçültün...\n",
      "Puanınız=10\n",
      "Lütfen tahmininizi giriniz = 20\n",
      "Tahmininizi küçültün...\n",
      "Puanınız=0\n",
      "Hakkınız sona erdi. Toplam puanınız=0, Sistem tarafından tahmin edile sayı=4\n"
     ]
    }
   ],
   "source": [
    "s1=Piyango()"
   ]
  },
  {
   "cell_type": "code",
   "execution_count": 34,
   "metadata": {},
   "outputs": [],
   "source": [
    "class Piyango2():\n",
    "    def cekilis(self):\n",
    "        print(\"Şans topuna hoşgeldiniz...\")\n",
    "        oyun_tekrar=True\n",
    "        kac_kez=int(input(\"Kaç kere oynamak istersiniz= \"))\n",
    "        puan=kac_kez*10\n",
    "        hak=0\n",
    "        for i in range(0,kac_kez):\n",
    "            hak=hak+1\n",
    "            sayi=int(input(\"Girmek istediğiniz sayıyı yazınız\"))\n",
    "            sayi_tahmin=random.randint(1,100)\n",
    "            if sayi>sayi_tahmin:\n",
    "                puan=puan-10\n",
    "                print(f\"Tahmininiz daha büyük. Girilen sayı={sayi}, tahmin edilen sayı={sayi_tahmin}.\")\n",
    "                print(f\"Puanınız={puan}\")\n",
    "            elif sayi<sayi_tahmin:\n",
    "                puan=puan-10\n",
    "                print(f\"Tahmininiz daha küçük. Girilen sayı={sayi}, tahmin edilen sayı={sayi_tahmin}.\")\n",
    "                print(f\"Puanınız={puan}\")\n",
    "            elif sayi==sayi_tahmin:\n",
    "                puan=puan-10\n",
    "                print(f\"Tebrikler bildiniz. Girilen sayı={sayi}, tahmin edilen sayı={sayi_tahmin}.\")\n",
    "                print(f\"Puanınız={puan}\")\n",
    "                \n",
    "            if hak==kac_kez:\n",
    "                print(f\"Hakkınız sona erdi. Toplam puanınız={puan}\")\n",
    "                "
   ]
  },
  {
   "cell_type": "code",
   "execution_count": 32,
   "metadata": {},
   "outputs": [],
   "source": [
    "p2=Piyango2()"
   ]
  },
  {
   "cell_type": "code",
   "execution_count": 33,
   "metadata": {},
   "outputs": [
    {
     "name": "stdout",
     "output_type": "stream",
     "text": [
      "Şans topuna hoşgeldiniz...\n",
      "Kaç kere oynamak istersiniz= 2\n",
      "Girmek istediğiniz sayıyı yazınız15\n",
      "Tahmininiz daha büyük. Girilen sayı=15, tahmin edilen sayı=1.\n",
      "Puanınız=10\n",
      "Girmek istediğiniz sayıyı yazınız21\n",
      "Tahmininiz daha küçük. Girilen sayı=21, tahmin edilen sayı=62.\n",
      "Puanınız=0\n",
      "Hakkınız sona erdi. Toplam puanınız=0\n",
      "Tekrar oynamak ister misiniz? E\\HE\n"
     ]
    }
   ],
   "source": [
    "p2.cekilis()"
   ]
  },
  {
   "cell_type": "code",
   "execution_count": null,
   "metadata": {},
   "outputs": [],
   "source": []
  }
 ],
 "metadata": {
  "kernelspec": {
   "display_name": "Python 3",
   "language": "python",
   "name": "python3"
  },
  "language_info": {
   "codemirror_mode": {
    "name": "ipython",
    "version": 3
   },
   "file_extension": ".py",
   "mimetype": "text/x-python",
   "name": "python",
   "nbconvert_exporter": "python",
   "pygments_lexer": "ipython3",
   "version": "3.8.5"
  }
 },
 "nbformat": 4,
 "nbformat_minor": 4
}
