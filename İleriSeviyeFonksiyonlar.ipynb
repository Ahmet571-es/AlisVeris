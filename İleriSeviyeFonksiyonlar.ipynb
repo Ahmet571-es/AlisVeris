{
 "cells": [
  {
   "cell_type": "code",
   "execution_count": 1,
   "metadata": {},
   "outputs": [],
   "source": [
    "def fonksiyon(*args):\n",
    "    for i in args:\n",
    "        print(i)"
   ]
  },
  {
   "cell_type": "code",
   "execution_count": 3,
   "metadata": {},
   "outputs": [
    {
     "name": "stdout",
     "output_type": "stream",
     "text": [
      "12\n",
      "5\n",
      "7\n",
      "89\n",
      "3\n",
      "2\n"
     ]
    }
   ],
   "source": [
    "fonksiyon(12,5,7,89,3,2)"
   ]
  },
  {
   "cell_type": "code",
   "execution_count": 4,
   "metadata": {},
   "outputs": [],
   "source": [
    "def toplam(*args):\n",
    "    topla=0\n",
    "    for i in args:\n",
    "        topla=topla+i\n",
    "    print(topla)"
   ]
  },
  {
   "cell_type": "code",
   "execution_count": 5,
   "metadata": {},
   "outputs": [
    {
     "name": "stdout",
     "output_type": "stream",
     "text": [
      "54\n"
     ]
    }
   ],
   "source": [
    "toplam(5,7,8,9,11,14)"
   ]
  },
  {
   "cell_type": "code",
   "execution_count": 8,
   "metadata": {},
   "outputs": [],
   "source": [
    "def person(*args):\n",
    "    for i in args:\n",
    "        print(i)"
   ]
  },
  {
   "cell_type": "code",
   "execution_count": 9,
   "metadata": {},
   "outputs": [
    {
     "name": "stdout",
     "output_type": "stream",
     "text": [
      "Ali\n",
      "Atar\n",
      "12345678\n"
     ]
    }
   ],
   "source": [
    "person(\"Ali\",\"Atar\",\"12345678\")"
   ]
  },
  {
   "cell_type": "code",
   "execution_count": 11,
   "metadata": {},
   "outputs": [],
   "source": [
    "def person(**kwargs):\n",
    "    print(kwargs)"
   ]
  },
  {
   "cell_type": "code",
   "execution_count": 12,
   "metadata": {},
   "outputs": [
    {
     "name": "stdout",
     "output_type": "stream",
     "text": [
      "{'isim': 'Ali', 'soyadı': 'Osmaonğlu', 'gsm': '5589745632'}\n"
     ]
    }
   ],
   "source": [
    "person(isim=\"Ali\",soyadı=\"Osmaonğlu\",gsm=\"5589745632\")"
   ]
  },
  {
   "cell_type": "code",
   "execution_count": 25,
   "metadata": {},
   "outputs": [],
   "source": [
    "def person1(**kwargs):\n",
    "    for i,j in kwargs.items():\n",
    "        print(\"ismi\",i,\"soyadı\",j)"
   ]
  },
  {
   "cell_type": "code",
   "execution_count": 26,
   "metadata": {},
   "outputs": [
    {
     "name": "stdout",
     "output_type": "stream",
     "text": [
      "ismi ad soyadı Mehmet\n",
      "ismi soyad soyadı Es\n"
     ]
    }
   ],
   "source": [
    "person1(ad=\"Mehmet\",soyad=\"Es\")"
   ]
  },
  {
   "cell_type": "code",
   "execution_count": 35,
   "metadata": {},
   "outputs": [],
   "source": [
    "def fonksiyon(*args,**kwargs):\n",
    "    fak=1\n",
    "    for i in args:\n",
    "        fak=fak*i\n",
    "        print(f\"{i} sayısının fonksiyonu={fak}\")\n",
    "    print(\"*********\")\n",
    "    for i,j in kwargs.items():\n",
    "        print(i,j)"
   ]
  },
  {
   "cell_type": "code",
   "execution_count": 36,
   "metadata": {},
   "outputs": [
    {
     "name": "stdout",
     "output_type": "stream",
     "text": [
      "2 sayısının fonksiyonu=2\n",
      "3 sayısının fonksiyonu=6\n",
      "4 sayısının fonksiyonu=24\n",
      "*********\n",
      "ad mehmet\n",
      "soyad es\n"
     ]
    }
   ],
   "source": [
    "fonksiyon(2,3,4,ad=\"mehmet\",soyad=\"es\")"
   ]
  },
  {
   "cell_type": "code",
   "execution_count": 37,
   "metadata": {},
   "outputs": [],
   "source": [
    "def fonk1():\n",
    "    print(\"1. fonksiyon\")\n",
    "    def fonk2():\n",
    "        print(\"2. fonksiyon\")\n",
    "    fonk2()"
   ]
  },
  {
   "cell_type": "code",
   "execution_count": 38,
   "metadata": {},
   "outputs": [
    {
     "name": "stdout",
     "output_type": "stream",
     "text": [
      "1. fonksiyon\n",
      "2. fonksiyon\n"
     ]
    }
   ],
   "source": [
    "fonk1()"
   ]
  },
  {
   "cell_type": "code",
   "execution_count": 48,
   "metadata": {},
   "outputs": [],
   "source": [
    "def numbers(*args):\n",
    "    def toplam(args):\n",
    "        topla=0\n",
    "        for i in args:\n",
    "            topla=topla+i\n",
    "        print(f\"Girilen sayıların toplamı={topla}\") \n",
    "    toplam(args)\n",
    "    def en_buyuk(args):\n",
    "        print(max(args))\n",
    "    en_buyuk(args)    "
   ]
  },
  {
   "cell_type": "code",
   "execution_count": 49,
   "metadata": {},
   "outputs": [
    {
     "name": "stdout",
     "output_type": "stream",
     "text": [
      "Girilen sayıların toplamı=25\n",
      "8\n"
     ]
    }
   ],
   "source": [
    "numbers(5,7,3,2,8)"
   ]
  },
  {
   "cell_type": "code",
   "execution_count": null,
   "metadata": {},
   "outputs": [],
   "source": []
  }
 ],
 "metadata": {
  "kernelspec": {
   "display_name": "Python 3",
   "language": "python",
   "name": "python3"
  },
  "language_info": {
   "codemirror_mode": {
    "name": "ipython",
    "version": 3
   },
   "file_extension": ".py",
   "mimetype": "text/x-python",
   "name": "python",
   "nbconvert_exporter": "python",
   "pygments_lexer": "ipython3",
   "version": "3.8.5"
  }
 },
 "nbformat": 4,
 "nbformat_minor": 4
}
