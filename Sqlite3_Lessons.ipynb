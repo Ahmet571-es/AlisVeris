{
 "cells": [
  {
   "cell_type": "code",
   "execution_count": 1,
   "metadata": {},
   "outputs": [],
   "source": [
    "import sqlite3"
   ]
  },
  {
   "cell_type": "code",
   "execution_count": 2,
   "metadata": {},
   "outputs": [],
   "source": [
    "connection=sqlite3.connect(\"Urun_Listesi.db\") # database oluşturduk."
   ]
  },
  {
   "cell_type": "code",
   "execution_count": 3,
   "metadata": {},
   "outputs": [],
   "source": [
    "cursor=connection.cursor()"
   ]
  },
  {
   "cell_type": "code",
   "execution_count": 6,
   "metadata": {},
   "outputs": [],
   "source": [
    "def create_table():\n",
    "    cursor.execute(\"CREATE TABLE IF NOT EXISTS products (ad TEXT,fiyat INT,stok INT)\") # data içinde tablo oluşturduk.\n",
    "    connection.commit()"
   ]
  },
  {
   "cell_type": "code",
   "execution_count": 7,
   "metadata": {},
   "outputs": [],
   "source": [
    "create_table()"
   ]
  },
  {
   "cell_type": "code",
   "execution_count": 10,
   "metadata": {},
   "outputs": [],
   "source": [
    "def veri_ekle():\n",
    "    name=input(\"eklemek istediğiniz ürünü giriniz= \")\n",
    "    fiyat=int(input(\"ürünün fiyatını giriniz= \"))\n",
    "    stok=int(input(\"üründen kaç adet var giriniz= \"))\n",
    "    cursor.execute(\"INSERT INTO products VALUES(?,?,?)\",(name,fiyat,stok))\n",
    "    connection.commit()"
   ]
  },
  {
   "cell_type": "code",
   "execution_count": 40,
   "metadata": {},
   "outputs": [
    {
     "name": "stdout",
     "output_type": "stream",
     "text": [
      "eklemek istediğiniz ürünü giriniz= Sony\n",
      "ürünün fiyatını giriniz= 987\n",
      "üründen kaç adet var giriniz= 17\n"
     ]
    }
   ],
   "source": [
    "veri_ekle()"
   ]
  },
  {
   "cell_type": "code",
   "execution_count": 17,
   "metadata": {},
   "outputs": [],
   "source": [
    "def urun_listele():\n",
    "    cursor.execute(\"SELECT * FROM products\")\n",
    "    liste=cursor.fetchall()\n",
    "    for i in liste:\n",
    "        print(f\"Ürün adı={i[0]}, ürün fiyatı={i[1]}, ürün adeti={i[2]}\")\n",
    "        "
   ]
  },
  {
   "cell_type": "code",
   "execution_count": 18,
   "metadata": {},
   "outputs": [
    {
     "name": "stdout",
     "output_type": "stream",
     "text": [
      "Ürün adı=İphone 6s, ürün fiyatı=1200, ürün adeti=12\n",
      "Ürün adı=Apple, ürün fiyatı=1235, ürün adeti=15\n",
      "Ürün adı=Asus, ürün fiyatı=1100, ürün adeti=8\n",
      "Ürün adı=Xaiomi, ürün fiyatı=859, ürün adeti=14\n",
      "Ürün adı=Huawei, ürün fiyatı=1050, ürün adeti=8\n",
      "Ürün adı=Sony, ürün fiyatı=980, ürün adeti=17\n"
     ]
    }
   ],
   "source": [
    "urun_listele()"
   ]
  },
  {
   "cell_type": "code",
   "execution_count": 19,
   "metadata": {},
   "outputs": [],
   "source": [
    "def urun_listele2():\n",
    "    cursor.execute(\"SELECT ad,fiyat FROM products\")\n",
    "    liste=cursor.fetchall()\n",
    "    for i in liste:\n",
    "        print(f\"ürün adı={i[0]}, ürünün fiyatı={i[1]}\")"
   ]
  },
  {
   "cell_type": "code",
   "execution_count": 20,
   "metadata": {},
   "outputs": [
    {
     "name": "stdout",
     "output_type": "stream",
     "text": [
      "ürün adı=İphone 6s, ürünün fiyatı=1200\n",
      "ürün adı=Apple, ürünün fiyatı=1235\n",
      "ürün adı=Asus, ürünün fiyatı=1100\n",
      "ürün adı=Xaiomi, ürünün fiyatı=859\n",
      "ürün adı=Huawei, ürünün fiyatı=1050\n",
      "ürün adı=Sony, ürünün fiyatı=980\n"
     ]
    }
   ],
   "source": [
    "urun_listele2()"
   ]
  },
  {
   "cell_type": "code",
   "execution_count": 28,
   "metadata": {},
   "outputs": [],
   "source": [
    "def urun_filter():\n",
    "    cursor.execute(\"SELECT * FROM products WHERE ad = 'Apple'\")\n",
    "    liste=cursor.fetchall()\n",
    "    for i in liste:\n",
    "        print(f\"ürün adı={i[0]}, ürünün fiyatı={i[1]}, ürün adeti={i[2]}\")"
   ]
  },
  {
   "cell_type": "code",
   "execution_count": 29,
   "metadata": {},
   "outputs": [
    {
     "name": "stdout",
     "output_type": "stream",
     "text": [
      "ürün adı=Apple, ürünün fiyatı=1235, ürün adeti=15\n"
     ]
    }
   ],
   "source": [
    "urun_filter()"
   ]
  },
  {
   "cell_type": "code",
   "execution_count": 30,
   "metadata": {},
   "outputs": [],
   "source": [
    "def urunad_guncelle():\n",
    "    cursor.execute(\"UPDATE products SET ad='Xaomi-Mi6s' WHERE ad='Xaiomi' \")\n",
    "    liste=cursor.fetchall()\n",
    "    for i in liste:\n",
    "        print(f\"ürün adı={i[0]}, ürünün fiyatı={i[1]}, ürün adeti={i[2]}\")\n",
    "    connection.commit()    "
   ]
  },
  {
   "cell_type": "code",
   "execution_count": 31,
   "metadata": {},
   "outputs": [],
   "source": [
    "urunad_guncelle()"
   ]
  },
  {
   "cell_type": "code",
   "execution_count": 34,
   "metadata": {},
   "outputs": [],
   "source": [
    "def urunad_guncelle2():\n",
    "    db_ad=input(\"Hangi ürünü güncellemek istersiniz = \")\n",
    "    update_ad=input(\"Ürünün yeni adını yazınız= \")\n",
    "    cursor.execute(\"UPDATE products SET ad = ? WHERE ad = ?\",(update_ad,db_ad))\n",
    "    connection.commit()"
   ]
  },
  {
   "cell_type": "code",
   "execution_count": 35,
   "metadata": {},
   "outputs": [
    {
     "name": "stdout",
     "output_type": "stream",
     "text": [
      "Hangi ürünü güncellemek istersiniz = Sony\n",
      "Ürünün yeni adını yazınız= Honour\n"
     ]
    }
   ],
   "source": [
    "urunad_guncelle2()"
   ]
  },
  {
   "cell_type": "code",
   "execution_count": 47,
   "metadata": {},
   "outputs": [],
   "source": [
    "def urun_delete():\n",
    "    delete_ad=input(\"Silmek istediğiniz ürün adını giriniz = \")\n",
    "    cursor.execute(\"DELETE FROM products WHERE ad = ?\",(delete_ad,))\n",
    "    connection.commit()"
   ]
  },
  {
   "cell_type": "code",
   "execution_count": 48,
   "metadata": {},
   "outputs": [
    {
     "name": "stdout",
     "output_type": "stream",
     "text": [
      "Silmek istediğiniz ürün adını giriniz = Sony\n"
     ]
    }
   ],
   "source": [
    "urun_delete()"
   ]
  },
  {
   "cell_type": "code",
   "execution_count": null,
   "metadata": {},
   "outputs": [],
   "source": []
  }
 ],
 "metadata": {
  "kernelspec": {
   "display_name": "Python 3",
   "language": "python",
   "name": "python3"
  },
  "language_info": {
   "codemirror_mode": {
    "name": "ipython",
    "version": 3
   },
   "file_extension": ".py",
   "mimetype": "text/x-python",
   "name": "python",
   "nbconvert_exporter": "python",
   "pygments_lexer": "ipython3",
   "version": "3.8.5"
  }
 },
 "nbformat": 4,
 "nbformat_minor": 4
}
