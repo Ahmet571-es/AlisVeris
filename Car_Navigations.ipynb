{
 "cells": [
  {
   "cell_type": "code",
   "execution_count": 18,
   "metadata": {},
   "outputs": [],
   "source": [
    "from playsound import playsound\n",
    "from gtts import gTTS\n",
    "import speech_recognition as sr\n",
    "import os"
   ]
  },
  {
   "cell_type": "code",
   "execution_count": 19,
   "metadata": {},
   "outputs": [],
   "source": [
    "def speak(string):\n",
    "    tts=gTTS(text=string, lang=\"tr\")\n",
    "    file=\"answer.mp3\"\n",
    "    tts.save(file)\n",
    "    playsound(file)\n",
    "    os.remove(file)"
   ]
  },
  {
   "cell_type": "code",
   "execution_count": 34,
   "metadata": {},
   "outputs": [],
   "source": []
  },
  {
   "cell_type": "code",
   "execution_count": 45,
   "metadata": {},
   "outputs": [],
   "source": [
    "def gaza_bas():\n",
    "    speak(\"Gaza her basışınızda hızınız 10 km artacaktır.\")\n",
    "    hız=int(input(\"Lütfen hızınızı giriniz= \"))\n",
    "    hız=hız+10\n",
    "    speak(\"Yeni hızınız saatte\"+str(hız)+\"kilometre\")\n",
    "    print(hız)"
   ]
  },
  {
   "cell_type": "code",
   "execution_count": 42,
   "metadata": {},
   "outputs": [],
   "source": [
    "for i in range (0,4):\n",
    "    gaza_bas()"
   ]
  },
  {
   "cell_type": "code",
   "execution_count": 44,
   "metadata": {},
   "outputs": [],
   "source": [
    "def frene_bas():\n",
    "    speak(\"frene her basışınızda hızınız 10 km azalacaktır.\")\n",
    "    hız=int(input(\"Şu anki hızınızı giriniz= \"))\n",
    "    speak(\"Mevcut hızınız saatte\"+str(hız)+\"kilometre\")\n",
    "    hız=hız-10\n",
    "    speak(\"Yeni hızınız saatte\"+str(hız)+\"kilometre\")\n",
    "    print(hız)"
   ]
  },
  {
   "cell_type": "code",
   "execution_count": 39,
   "metadata": {},
   "outputs": [
    {
     "name": "stdout",
     "output_type": "stream",
     "text": [
      "Şu anki hızınızı giriniz= 20\n"
     ]
    }
   ],
   "source": [
    "frene_bas()"
   ]
  },
  {
   "cell_type": "code",
   "execution_count": 69,
   "metadata": {},
   "outputs": [],
   "source": [
    "def start_off_car():\n",
    "    for i in range(0,1):\n",
    "        name=input(\"Lütfen adınızı giriniz: \")\n",
    "        speak(name+\"bey araba start programına hoşgeldiniz.\")\n",
    "        rota_start=input(\"Başlangıç yerinizi lütfen sırasıyla il-ilçe-mahalle/sokak şeklinde yazınız= \")\n",
    "        speak(\"Başlangıç noktasınız\"+rota_start)\n",
    "        rota_finish=input(\"Varış yerinizi lütfen sırasıyla il-ilçe-mahalle/sokak şeklinde yazınız=\")\n",
    "        speak(\"Varış noktanız\"+rota_finish)\n",
    "        speak(name+\"bey aracı çalıştırmak için ilk önce aracın anahtar bölümünde ki start tuşuna basınız...\")\n",
    "        speak(\"Aracınız çalıştı. Güvenliğiniz açısından rota belirleme işlemi çalışma işleminden önce yapıldı.\")\n",
    "        gaza_bas()\n",
    "        gaza_bas()\n",
    "        gaza_bas()\n",
    "        frene_bas()\n",
    "        json={\n",
    "                \"Araç navigayon başlat\":\"navigasyon başlatıldı\",\n",
    "                \"Araç içi kontroller\":\"araç kontrolleri yapıldı\",\n",
    "                \"güzergah belirle\":\"güzergah belirleme olumlu\",\n",
    "                \"ABS\":\"fren sistemi aktif\",\n",
    "                \"SCR\":\"arac güvenlik aktif\"\n",
    "            }\n",
    "        speak(json[\"Araç navigayon başlat\"]+json[\"Araç içi kontroller\"]+json[\"güzergah belirle\"]+json[\"ABS\"]+json[\"SCR\"])\n",
    "\n",
    "        speak(\"Aracın fren ve gaz fonksiyonlarında bir sıkıntı yok.\")\n",
    "        print(\"yukarıdaki gaz ve fren aracın testi içindir.\")\n",
    "        dreksiyon_control_left=input(\"Direksiyonu sola çevir E/H\")\n",
    "        if dreksiyon_control_left==\"E\":\n",
    "            speak(\"Direksiyon sola döndü.\")\n",
    "        elif dreksiyon_control_left==\"H\":\n",
    "            speak(\"Direksiyonun sola dönme işlemi yapılmadı\")\n",
    "            break\n",
    "        dreksiyon_control_right=input(\"Direksiyonu sağa çevir E/H\")\n",
    "        if dreksiyon_control_right==\"E\":\n",
    "            speak(\"Direksiyon sola döndü.\")\n",
    "        elif dreksiyon_control_right==\"H\":\n",
    "            speak(\"Direksiyonun sağa dönme işlemi yapılmadı\")\n",
    "            break\n",
    "        speak(\"Aracın direksiyon aksamında bir sıkıntı yok.\")\n",
    "        speak(\"Aracınızın için güvenlik şifresi girin lütfen\")\n",
    "        arac_pass=input(\"Şifreniz = \")\n",
    "        if len(arac_pass)!=5:\n",
    "            speak(\"Lütfen şifrenizi 5 haneli olarak giriniz.\")\n",
    "            break\n",
    "        elif len(arac_pass)==5:\n",
    "            if arac_pass[0]==\"0\" or arac_pass[0]==\"1\" or arac_pass[0]==\"2\":\n",
    "                speak(\"Şifrenizin ilk karakteri 0 veya 1 veya 2 ile başlayamaz...\")\n",
    "                break\n",
    "            elif arac_pass[0]!=\"0\" and  arac_pass[0]!=\"1\" and arac_pass[0]!=\"2\":\n",
    "                if arac_pass[0]==arac_pass[1]==arac_pass[2]==arac_pass[3]==arac_pass[4]:\n",
    "                    speak(\"Şifrenin tüm karakterlerini eşit girdiniz\")\n",
    "                    break\n",
    "                elif arac_pass[0]!=arac_pass[1]!=arac_pass[2]!=arac_pass[3]!=arac_pass[4]: \n",
    "                    if arac_pass[0]==arac_pass[1]==arac_pass[2]==arac_pass[3]:\n",
    "                        speak(\"Şifrenizin ilk 4 karakteri eşit olamaz\")\n",
    "                        break\n",
    "                    elif arac_pass[0]!=arac_pass[1]!=arac_pass[2]!=arac_pass[3]:\n",
    "                        if arac_pass[0]==arac_pass[1]==arac_pass[2]:\n",
    "                            speak(\"Şifrenizin ilk 3 karakteri eşit olamaz\")\n",
    "                            break\n",
    "                        elif arac_pass[0]!=arac_pass[1]!=arac_pass[2]:\n",
    "                            speak(\"Araç şifreniz tanımlandı.\")\n",
    "                            print(f\"Şifreniz={arac_pass}\")\n",
    "        \n",
    "        arac_sesli_komut=input(\"Arac sesli komut size cevap veriyor mu? E/H\")\n",
    "        if arac_sesli_komut==\"E\":\n",
    "            speak(\"Komutlarınıza olumlu yanıt veriyorum\")\n",
    "        elif arac_sesli_komut==\"H\":\n",
    "            command_control1=\"Nasılsın İyimisin?\"\n",
    "            speak(arac_sesli_komut+\"iyiyim sen nasılsın\")\n",
    "            command_control2=\"Senin görevin nedir\"\n",
    "            speak(command_control2+\"Benim görevim sizi doğru bir şekilde yönlendrmek\")\n",
    "            "
   ]
  },
  {
   "cell_type": "code",
   "execution_count": 70,
   "metadata": {},
   "outputs": [
    {
     "name": "stdout",
     "output_type": "stream",
     "text": [
      "Lütfen adınızı giriniz: Mehmet\n",
      "Başlangıç yerinizi lütfen sırasıyla il-ilçe-mahalle/sokak şeklinde yazınız= Hatay Reyhenlı Kuşaklı\n",
      "Varış yerinizi lütfen sırasıyla il-ilçe-mahalle/sokak şeklinde yazınız=Ankara Çankaya Dikmen\n",
      "Lütfen hızınızı giriniz= 10\n",
      "20\n",
      "Lütfen hızınızı giriniz= 20\n",
      "30\n",
      "Lütfen hızınızı giriniz= 30\n",
      "40\n",
      "Şu anki hızınızı giriniz= 40\n",
      "30\n",
      "yukarıdaki gaz ve fren aracın testi içindir.\n",
      "Direksiyonu sola çevir E/HE\n",
      "Direksiyonu sağa çevir E/HH\n",
      "Şifreniz = 57102\n",
      "Şifreniz=57102\n",
      "Arac sesli komut size cevap veriyor mu? E/HE\n"
     ]
    }
   ],
   "source": [
    "start_off_car()"
   ]
  },
  {
   "cell_type": "code",
   "execution_count": null,
   "metadata": {},
   "outputs": [],
   "source": []
  },
  {
   "cell_type": "code",
   "execution_count": 68,
   "metadata": {},
   "outputs": [
    {
     "name": "stdout",
     "output_type": "stream",
     "text": [
      "Şifreniz = 33333\n"
     ]
    }
   ],
   "source": [
    "        "
   ]
  },
  {
   "cell_type": "code",
   "execution_count": null,
   "metadata": {},
   "outputs": [],
   "source": []
  }
 ],
 "metadata": {
  "kernelspec": {
   "display_name": "Python 3",
   "language": "python",
   "name": "python3"
  },
  "language_info": {
   "codemirror_mode": {
    "name": "ipython",
    "version": 3
   },
   "file_extension": ".py",
   "mimetype": "text/x-python",
   "name": "python",
   "nbconvert_exporter": "python",
   "pygments_lexer": "ipython3",
   "version": "3.8.5"
  }
 },
 "nbformat": 4,
 "nbformat_minor": 4
}
